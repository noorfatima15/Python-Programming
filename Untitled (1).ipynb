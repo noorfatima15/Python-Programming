{
 "cells": [
  {
   "cell_type": "code",
   "execution_count": 17,
   "id": "dd020a82",
   "metadata": {},
   "outputs": [
    {
     "name": "stdout",
     "output_type": "stream",
     "text": [
      "Twinkle, twinkle, little star,\n",
      "        How I wonder what you are!\n",
      "                Up above the world so high,\n",
      "                Like a diamond in the sky.\n",
      "\n",
      "Twinkle, twinkle, little star,\n",
      "        How I wonder what you are\n"
     ]
    }
   ],
   "source": [
    "str=\"\"\"Twinkle, twinkle, little star,\n",
    "        How I wonder what you are!\n",
    "                Up above the world so high,\n",
    "                Like a diamond in the sky.\n",
    "\n",
    "Twinkle, twinkle, little star,\n",
    "        How I wonder what you are\"\"\"\n",
    "print(str)"
   ]
  },
  {
   "cell_type": "code",
   "execution_count": 19,
   "id": "f2c60521",
   "metadata": {},
   "outputs": [
    {
     "name": "stdout",
     "output_type": "stream",
     "text": [
      "3.8.6 (tags/v3.8.6:db45529, Sep 23 2020, 15:52:53) [MSC v.1927 64 bit (AMD64)]\n"
     ]
    }
   ],
   "source": [
    "import platform\n",
    "print(platform.sys.version)"
   ]
  },
  {
   "cell_type": "code",
   "execution_count": 10,
   "id": "5e6c8986",
   "metadata": {},
   "outputs": [
    {
     "name": "stdout",
     "output_type": "stream",
     "text": [
      "2021-10-24 15:29:08.261860\n"
     ]
    }
   ],
   "source": [
    "from datetime import datetime\n",
    "print(datetime.now())"
   ]
  },
  {
   "cell_type": "code",
   "execution_count": 17,
   "id": "8abbc235",
   "metadata": {},
   "outputs": [
    {
     "name": "stdout",
     "output_type": "stream",
     "text": [
      "Enter radius of circle 2\n",
      "12.566370614359172\n"
     ]
    }
   ],
   "source": [
    "import math\n",
    "radius = input(\"Enter radius of circle \")\n",
    "Area_of_circle = math.pi * pow(int(radius), 2)\n",
    "print(Area_of_circle)"
   ]
  },
  {
   "cell_type": "code",
   "execution_count": 1,
   "id": "93b79b32",
   "metadata": {},
   "outputs": [
    {
     "name": "stdout",
     "output_type": "stream",
     "text": [
      "dilahK ahseyA\n"
     ]
    }
   ],
   "source": [
    "name = \"Ayesha Khalid\"[::-1]\n",
    "print(name)"
   ]
  },
  {
   "cell_type": "code",
   "execution_count": 8,
   "id": "587699f7",
   "metadata": {},
   "outputs": [
    {
     "name": "stdout",
     "output_type": "stream",
     "text": [
      "Enter first number1\n",
      "Enter first number2\n",
      "total sum 3\n"
     ]
    }
   ],
   "source": [
    "n1 = int(input(\"Enter first number\"))\n",
    "n2 = int(input(\"Enter first number\"))\n",
    "print(\"total sum\",n1+n2)"
   ]
  },
  {
   "cell_type": "code",
   "execution_count": 69,
   "id": "c826e91e",
   "metadata": {},
   "outputs": [
    {
     "name": "stdout",
     "output_type": "stream",
     "text": [
      "Enter marks of Maths 100\n",
      "Enter marks of Comp 90\n",
      "Enter marks of Java 88\n",
      "Enter marks of python 98\n",
      "Enter marks of C# 78\n",
      "Your got  90.8 %\n"
     ]
    }
   ],
   "source": [
    "subject_marks = [\"Maths\", \"Comp\", \"Java\", \"python\", \"C#\"]\n",
    "marks=[]\n",
    "for index,item in enumerate(subject_marks):\n",
    "    num = int(input(\"Enter marks of \"+item+\" \"))\n",
    "    marks.append(num)\n",
    "\n",
    "percentage=(sum(marks)/500)*100\n",
    "print(\"Your got \",percentage,\"%\") "
   ]
  },
  {
   "cell_type": "code",
   "execution_count": 71,
   "id": "db13b46d",
   "metadata": {},
   "outputs": [
    {
     "name": "stdout",
     "output_type": "stream",
     "text": [
      "Enter any number I will tell you if it is Even or Odd1\n",
      "Odd Number\n"
     ]
    }
   ],
   "source": [
    "number = int(input(\"Enter any number I will tell you if it is Even or Odd\"))\n",
    "if number%2==0:\n",
    "    print(\"Even Number\")\n",
    "else: \n",
    "    print(\"Odd Number\")"
   ]
  },
  {
   "cell_type": "code",
   "execution_count": 72,
   "id": "d7001e69",
   "metadata": {},
   "outputs": [
    {
     "name": "stdout",
     "output_type": "stream",
     "text": [
      "5\n"
     ]
    }
   ],
   "source": [
    "length_of_list=[1, 2, 3, 4, 5]\n",
    "print(len(length_of_list))"
   ]
  },
  {
   "cell_type": "code",
   "execution_count": 73,
   "id": "de77a8b3",
   "metadata": {},
   "outputs": [
    {
     "name": "stdout",
     "output_type": "stream",
     "text": [
      "15\n"
     ]
    }
   ],
   "source": [
    "numeric_item = [1, 2, 3, 4, 5]\n",
    "print(sum(numeric_item))"
   ]
  },
  {
   "cell_type": "code",
   "execution_count": 74,
   "id": "0878d012",
   "metadata": {},
   "outputs": [
    {
     "name": "stdout",
     "output_type": "stream",
     "text": [
      "5\n"
     ]
    }
   ],
   "source": [
    "largest_number = [1, 2, 3, 4, 5]\n",
    "print(max(largest_number))"
   ]
  },
  {
   "cell_type": "code",
   "execution_count": 79,
   "id": "b99de6d3",
   "metadata": {},
   "outputs": [
    {
     "name": "stdout",
     "output_type": "stream",
     "text": [
      "1\n",
      "1\n",
      "2\n",
      "3\n"
     ]
    }
   ],
   "source": [
    "a = [1, 1, 2, 3, 5, 8, 13, 21, 34, 55, 89]\n",
    "\n",
    "def my_function(key):\n",
    "    if key<5:\n",
    "        return True\n",
    "    else:\n",
    "        return False\n",
    "\n",
    "for less_than_5 in filter(my_function, a):\n",
    "    print(less_than_5)"
   ]
  }
 ],
 "metadata": {
  "kernelspec": {
   "display_name": "Python 3",
   "language": "python",
   "name": "python3"
  },
  "language_info": {
   "codemirror_mode": {
    "name": "ipython",
    "version": 3
   },
   "file_extension": ".py",
   "mimetype": "text/x-python",
   "name": "python",
   "nbconvert_exporter": "python",
   "pygments_lexer": "ipython3",
   "version": "3.8.6"
  }
 },
 "nbformat": 4,
 "nbformat_minor": 5
}
